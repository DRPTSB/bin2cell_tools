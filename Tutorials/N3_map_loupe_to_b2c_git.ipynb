{
 "cells": [
  {
   "cell_type": "code",
   "execution_count": 1,
   "id": "sized-commissioner",
   "metadata": {},
   "outputs": [
    {
     "name": "stdout",
     "output_type": "stream",
     "text": [
      "0.3.3\n"
     ]
    }
   ],
   "source": [
    "# used the human gut public data as basis here and the bin2cell version 0.3.3\n",
    "import matplotlib.pyplot as plt\n",
    "import pandas as pd \n",
    "import scanpy as sc\n",
    "import numpy as np\n",
    "import os\n",
    "import bin2cell as b2c\n",
    "import scanpy as sc\n",
    "import cv2\n",
    "print(b2c.__version__)"
   ]
  },
  {
   "cell_type": "markdown",
   "id": "87a247e1-9a96-4e41-9fba-5d10c62f4ead",
   "metadata": {},
   "source": [
    "# Read the objects "
   ]
  },
  {
   "cell_type": "code",
   "execution_count": null,
   "id": "forty-possibility",
   "metadata": {},
   "outputs": [],
   "source": [
    "path02 = \"\"\n",
    "os.chdir(path=path02)\n",
    "adata = sc.read_h5ad('2um_crc.h5ad') # read 2um object which has b2c cell grouping - see tutorial - https://nbviewer.org/github/Teichlab/bin2cell/blob/main/notebooks/demo.ipynb \n",
    "cdata = sc.read_h5ad('b2c_crc.h5ad') # read b2c object\n",
    "anno_df = pd.read_csv('Graph-Based.csv',index_col=0)\n",
    "anno = 'Graph-based'\n",
    "cell_grouping = 'labels_joint'"
   ]
  },
  {
   "cell_type": "markdown",
   "id": "b9186e0a",
   "metadata": {},
   "source": [
    "# import annotations from loupe browser "
   ]
  },
  {
   "cell_type": "code",
   "execution_count": 18,
   "id": "b00cb9d5-7353-46ee-8dbf-3d3c165c0fe6",
   "metadata": {},
   "outputs": [
    {
     "name": "stdout",
     "output_type": "stream",
     "text": [
      "annotations to map:\n",
      "                      Graph-based\n",
      "Barcode                          \n",
      "s_008um_00301_00321-1   Cluster 9\n",
      "s_008um_00526_00291-1   Cluster 1\n",
      "s_008um_00078_00444-1   Cluster 8\n",
      "s_008um_00128_00278-1   Cluster 9\n",
      "s_008um_00052_00559-1   Cluster 5\n",
      "Annotations in b2c object:\n",
      "Graph-based\n",
      "Cluster 1     63924\n",
      "Cluster 10    27159\n",
      "Cluster 6     26112\n",
      "Cluster 7     25441\n",
      "Cluster 3     23434\n",
      "Cluster 5     20737\n",
      "Cluster 9     18089\n",
      "Cluster 4     17776\n",
      "Cluster 8     14151\n",
      "Cluster 12     7268\n",
      "Cluster 11     5024\n",
      "Cluster 2      3926\n",
      "Cluster 14     1986\n",
      "Cluster 13     1801\n",
      "Cluster 15      387\n",
      "Name: count, dtype: int64\n"
     ]
    }
   ],
   "source": [
    "def map_loupe_to_b2c(\n",
    "        adata,\n",
    "        cdata,\n",
    "        anno_df,\n",
    "        anno,\n",
    "        cell_grouping = 'labels_he_expanded', \n",
    "        ):\n",
    "     \n",
    "\n",
    "    # Calculate the binned row and column indices in adata\n",
    "    adata.obs['binned_8_row'] = adata.obs['array_row'] // 4\n",
    "    adata.obs['binned_8_col'] = adata.obs['array_col'] // 4\n",
    "\n",
    "    # Create a combined index in adata and set it as the index\n",
    "    adata.obs['mapping_index_08'] = 's_008um_' + adata.obs['binned_8_row'].astype(str).str.zfill(5) + '_' + adata.obs['binned_8_col'].astype(str).str.zfill(5) + '-1'\n",
    "    adata.obs['mapping_index_08'].value_counts() # most should have 16 but there are some on the tissue edge that actually have less due to partial overlap \n",
    "\n",
    "    # read annotations from df and map to the 2um object \n",
    "    print('annotations to map:')\n",
    "    print(anno_df.head(5))\n",
    "    mapping_dict = pd.Series(anno_df[anno].values,index=anno_df.index).to_dict()\n",
    "    adata.obs[anno] = adata.obs['mapping_index_08'].map(mapping_dict) # update 2um object \n",
    "\n",
    "    # assign annotation to cells by pandas.Series.mode(). The mode is the value that appears most often which captures the most frequent annotation for that cell from 2um data\n",
    "    filtered_data = adata.obs[(adata.obs[cell_grouping] != 0) & adata.obs[anno].notna()]\n",
    "    cell_annotation = (\n",
    "        filtered_data.groupby(cell_grouping)[anno]\n",
    "        .apply(lambda x: x.mode().iloc[0] if not x.mode().empty else None)\n",
    "    )\n",
    "    cell_annotation.index = cell_annotation.index.astype('str')\n",
    "    cdata.obs[anno] = cdata.obs.index.map(cell_annotation).astype('category') # label cells \n",
    "    print('Annotations in b2c object:')\n",
    "    print(cdata.obs[anno].value_counts())\n",
    "\n",
    "map_loupe_to_b2c(adata,cdata,anno_df,anno,cell_grouping)\n"
   ]
  },
  {
   "cell_type": "markdown",
   "id": "c31d6431-5deb-44ae-bb8f-6e65ca390d4e",
   "metadata": {},
   "source": [
    "# Plot result"
   ]
  },
  {
   "cell_type": "code",
   "execution_count": 19,
   "id": "0c6fd263",
   "metadata": {},
   "outputs": [],
   "source": [
    " \n",
    "def save_outputs(image, legends, \n",
    "                 image_path=\"annotated_image.jpg\", \n",
    "                 legend_paths=(\"fill_legend.jpg\", \"border_legend.jpg\"), \n",
    "                 image_quality=75, \n",
    "                 image_compression=True):\n",
    "    \"\"\"\n",
    "    Save the annotated image and legends to disk with optional compression.\n",
    "\n",
    "    Parameters\n",
    "    ----------\n",
    "    image : numpy.ndarray\n",
    "        The annotated image as a NumPy array.\n",
    "    legends : dictionary of matplotlib.figure.Figure\n",
    "        A list of legends as Matplotlib figures.\n",
    "    image_path : str, optional\n",
    "        Path to save the annotated image, by default \"annotated_image.jpg\".\n",
    "    legend_paths : tuple of str, optional\n",
    "        Paths to save the legends, by default (\"fill_legend.jpg\", \"border_legend.jpg\").\n",
    "    image_quality : int, optional\n",
    "        Quality of the saved image (1-100), by default 75.\n",
    "    image_compression : bool, optional\n",
    "        Whether to enable compression for the image, by default True.\n",
    "    \"\"\"\n",
    "    from PIL import Image\n",
    "    import logging \n",
    "    logging.getLogger().setLevel(logging.WARNING)\n",
    "\n",
    "    # Save the annotated image\n",
    "    img_pil = Image.fromarray(image)\n",
    "    img_pil.save(\n",
    "        image_path,\n",
    "        format=\"JPEG\",\n",
    "        quality=image_quality,\n",
    "        optimize=image_compression\n",
    "    )\n",
    "    print(f\"Image saved to {image_path} with quality={image_quality}, compression={image_compression}\")\n",
    "\n",
    "    # Save each legend\n",
    "    for legend, legend_path in zip(legends.values(), legend_paths):\n",
    "        # Ensure the file extension is PNG for better Matplotlib support\n",
    "        if not legend_path.endswith(\".pdf\"):\n",
    "            legend_path = legend_path.rsplit('.', 1)[0] + \".pdf\"\n",
    "        \n",
    "        legend.savefig(legend_path, dpi=300, bbox_inches=\"tight\")\n",
    "        print(f\"Legend saved to {legend_path}\")"
   ]
  },
  {
   "cell_type": "code",
   "execution_count": 20,
   "id": "f6bf5a86",
   "metadata": {},
   "outputs": [],
   "source": [
    "import matplotlib\n",
    "image_path = path02+\"/stardist/he.tiff\"\n",
    "labels_npz_path = path02+\"/stardist/he.npz\"\n",
    "matplotlib.rcParams['pdf.fonttype'] = 42\n",
    "sc.settings.set_figure_params(dpi = 150, color_map = 'RdPu', dpi_save = 150, vector_friendly = True, format = 'pdf')"
   ]
  },
  {
   "cell_type": "code",
   "execution_count": 21,
   "id": "1b0ea8c1",
   "metadata": {},
   "outputs": [
    {
     "data": {
      "text/plain": [
       "10.376625061035156"
      ]
     },
     "execution_count": 21,
     "metadata": {},
     "output_type": "execute_result"
    }
   ],
   "source": [
    "import time\n",
    "t1=time.time()\n",
    "# make annotated image of cell labels and confidance scores\n",
    "fill_col=anno\n",
    "annotated_image, legends = b2c.view_cell_labels(image_path, labels_npz_path, cdata, fill_key=fill_col,cat_cmap='tab20') \n",
    "t2=time.time()\n",
    "t2-t1"
   ]
  },
  {
   "cell_type": "code",
   "execution_count": 22,
   "id": "1dbb5ed6",
   "metadata": {},
   "outputs": [
    {
     "name": "stdout",
     "output_type": "stream",
     "text": [
      "Image saved to annotated_image_Graph-based.jpg with quality=90, compression=True\n",
      "Legend saved to fill_legend.pdf\n"
     ]
    }
   ],
   "source": [
    "# Save outputs\n",
    "save_outputs(\n",
    "    image=annotated_image,\n",
    "    legends=legends,\n",
    "    image_path=f\"annotated_image_{anno}.jpg\",\n",
    "    legend_paths=(\"fill_legend.pdf\", \"border_legend.pdf\"),\n",
    "    image_quality=90,\n",
    "    image_compression=True\n",
    ")"
   ]
  },
  {
   "cell_type": "code",
   "execution_count": null,
   "id": "342a2b29",
   "metadata": {},
   "outputs": [],
   "source": []
  }
 ],
 "metadata": {
  "kernelspec": {
   "display_name": "bin2cell_env",
   "language": "python",
   "name": "python3"
  },
  "language_info": {
   "codemirror_mode": {
    "name": "ipython",
    "version": 3
   },
   "file_extension": ".py",
   "mimetype": "text/x-python",
   "name": "python",
   "nbconvert_exporter": "python",
   "pygments_lexer": "ipython3",
   "version": "3.10.16"
  }
 },
 "nbformat": 4,
 "nbformat_minor": 5
}
