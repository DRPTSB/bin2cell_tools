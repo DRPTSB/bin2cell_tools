{
 "cells": [
  {
   "cell_type": "markdown",
   "id": "9f3f02e7-54c4-49c5-bf00-76b9a7c6bbf8",
   "metadata": {},
   "source": [
    "This notebook demonstrates the utility of `view_cell_labels()` for generating clear visualizations of various genes, observations, and their combinations. Additionally, it illustrates how to export these visualizations as images for easy sharing and display."
   ]
  },
  {
   "cell_type": "code",
   "execution_count": 1,
   "id": "03c6d391-d8ac-44d1-a43a-11b5503db12b",
   "metadata": {},
   "outputs": [
    {
     "name": "stdout",
     "output_type": "stream",
     "text": [
      "0.3.3\n"
     ]
    }
   ],
   "source": [
    "import warnings\n",
    "warnings.simplefilter(\"ignore\", FutureWarning)\n",
    "import scanpy as sc\n",
    "import bin2cell as b2c\n",
    "from PIL import Image\n",
    "import matplotlib\n",
    "from matplotlib import rcParams\n",
    "print(b2c.__version__) # make sure the b2c version is >=0.3.3 "
   ]
  },
  {
   "cell_type": "markdown",
   "id": "5fcff6d0-92a7-48ba-b0b0-1c65f81edbe0",
   "metadata": {},
   "source": [
    "# load b2c object "
   ]
  },
  {
   "cell_type": "code",
   "execution_count": 2,
   "id": "11de8a8d-bd69-40fd-af16-470f55346f81",
   "metadata": {},
   "outputs": [],
   "source": [
    "# load annotated object\n",
    "import os\n",
    "path = '.../square_002um/'\n",
    "os.chdir(path)\n",
    "cdata = sc.read_h5ad('b2c.h5ad')"
   ]
  },
  {
   "cell_type": "code",
   "execution_count": 3,
   "id": "d728ad9e-0bb9-401e-b10b-9e6a4b5fd620",
   "metadata": {},
   "outputs": [
    {
     "data": {
      "text/plain": [
       "AnnData object with n_obs × n_vars = 257215 × 18058\n",
       "    obs: 'bin_count', 'array_row', 'array_col', 'labels_joint_source'\n",
       "    var: 'gene_ids', 'feature_types', 'genome', 'n_cells'\n",
       "    uns: 'spatial'\n",
       "    obsm: 'spatial', 'spatial_cropped'"
      ]
     },
     "execution_count": 3,
     "metadata": {},
     "output_type": "execute_result"
    }
   ],
   "source": [
    "cdata"
   ]
  },
  {
   "cell_type": "markdown",
   "id": "f4991237-64c8-42c6-b63d-fb2b8d69978d",
   "metadata": {},
   "source": [
    "# Predict cell types "
   ]
  },
  {
   "cell_type": "code",
   "execution_count": 4,
   "id": "a87de2fe-8655-4a51-902b-a4ba2d73ed29",
   "metadata": {},
   "outputs": [],
   "source": [
    "# norm and prefilter\n",
    "import numpy as np\n",
    "cdata.X.data = np.round(cdata.X.data) # correct back to counts\n",
    "sc.pp.filter_genes(cdata, min_cells=3)\n",
    "sc.pp.filter_cells(cdata, min_genes=50)\n",
    "sc.pp.calculate_qc_metrics(cdata,inplace=True)\n",
    "sc.pp.normalize_total(cdata,target_sum=1e4)\n",
    "sc.pp.log1p(cdata)"
   ]
  },
  {
   "cell_type": "code",
   "execution_count": 5,
   "id": "023053b8-bf43-4a9a-a1a8-d482eaa43573",
   "metadata": {},
   "outputs": [
    {
     "name": "stderr",
     "output_type": "stream",
     "text": [
      "🔬 Input data has 250530 cells and 18057 genes\n",
      "🔗 Matching reference genes in the model\n",
      "🧬 3733 features used for prediction\n",
      "⚖️ Scaling input data\n",
      "🖋️ Predicting labels\n",
      "✅ Prediction done!\n"
     ]
    }
   ],
   "source": [
    "# celltypist part\n",
    "import celltypist\n",
    "predictions = celltypist.annotate(cdata, model = 'Human_Colorectal_Cancer.pkl', majority_voting = False)\n",
    "cdata = predictions.to_adata()"
   ]
  },
  {
   "cell_type": "markdown",
   "id": "endless-classics",
   "metadata": {},
   "source": [
    "# Plotting "
   ]
  },
  {
   "cell_type": "code",
   "execution_count": 6,
   "id": "cfe3eb01-24da-4a88-9afe-10fdc50ef982",
   "metadata": {},
   "outputs": [],
   "source": [
    "def save_outputs(image, legends, \n",
    "                 image_path=\"annotated_image.jpg\", \n",
    "                 legend_paths=(\"fill_legend.jpg\", \"border_legend.jpg\"), \n",
    "                 image_quality=75, \n",
    "                 image_compression=True):\n",
    "    \"\"\"\n",
    "    Save the annotated image and legends to disk with optional compression.\n",
    "\n",
    "    Parameters\n",
    "    ----------\n",
    "    image : numpy.ndarray\n",
    "        The annotated image as a NumPy array.\n",
    "    legends : dictionary of matplotlib.figure.Figure\n",
    "        A list of legends as Matplotlib figures.\n",
    "    image_path : str, optional\n",
    "        Path to save the annotated image, by default \"annotated_image.jpg\".\n",
    "    legend_paths : tuple of str, optional\n",
    "        Paths to save the legends, by default (\"fill_legend.jpg\", \"border_legend.jpg\").\n",
    "    image_quality : int, optional\n",
    "        Quality of the saved image (1-100), by default 75.\n",
    "    image_compression : bool, optional\n",
    "        Whether to enable compression for the image, by default True.\n",
    "    \"\"\"\n",
    "\n",
    "    import logging \n",
    "    logging.getLogger().setLevel(logging.WARNING)\n",
    "\n",
    "    # Save the annotated image\n",
    "    img_pil = Image.fromarray(image)\n",
    "    img_pil.save(\n",
    "        image_path,\n",
    "        format=\"JPEG\",\n",
    "        quality=image_quality,\n",
    "        optimize=image_compression\n",
    "    )\n",
    "    print(f\"Image saved to {image_path} with quality={image_quality}, compression={image_compression}\")\n",
    "\n",
    "    # Save each legend\n",
    "    for legend, legend_path in zip(legends.values(), legend_paths):\n",
    "        # Ensure the file extension is PNG for better Matplotlib support\n",
    "        if not legend_path.endswith(\".pdf\"):\n",
    "            legend_path = legend_path.rsplit('.', 1)[0] + \".pdf\"\n",
    "        \n",
    "        legend.savefig(legend_path, dpi=300, bbox_inches=\"tight\")\n",
    "        print(f\"Legend saved to {legend_path}\")"
   ]
  },
  {
   "cell_type": "code",
   "execution_count": 7,
   "id": "79d5685f-f6f0-434a-b1b1-cbfd9ef2bc57",
   "metadata": {},
   "outputs": [],
   "source": [
    "image_path = path+\"/stardist/he.tiff\"\n",
    "labels_npz_path = path+\"/stardist/he.npz\"\n",
    "matplotlib.rcParams['pdf.fonttype'] = 42\n",
    "sc.settings.set_figure_params(dpi = 150, color_map = 'RdPu', dpi_save = 150, vector_friendly = True, format = 'pdf')"
   ]
  },
  {
   "cell_type": "code",
   "execution_count": 8,
   "id": "1f70d811-e65e-41b1-aa7c-c45a9e7fa6ab",
   "metadata": {},
   "outputs": [
    {
     "data": {
      "text/plain": [
       "51.45907211303711"
      ]
     },
     "execution_count": 8,
     "metadata": {},
     "output_type": "execute_result"
    }
   ],
   "source": [
    "import time\n",
    "t1=time.time()\n",
    "# make annotated image of cell labels and confidance scores\n",
    "fill_col='predicted_labels'\n",
    "border_col='conf_score'\n",
    "annotated_image, legends = b2c.view_cell_labels(image_path, labels_npz_path, cdata, fill_key=fill_col, border_key=border_col,cat_cmap='tab20') \n",
    "t2=time.time()\n",
    "t2-t1"
   ]
  },
  {
   "cell_type": "code",
   "execution_count": 9,
   "id": "762411b4-2532-4f73-a991-6a4dfd22a912",
   "metadata": {},
   "outputs": [
    {
     "name": "stdout",
     "output_type": "stream",
     "text": [
      "Image saved to annotated_image.jpg with quality=90, compression=True\n",
      "Legend saved to fill_legend.pdf\n",
      "Legend saved to border_legend.pdf\n"
     ]
    }
   ],
   "source": [
    "# Save outputs\n",
    "save_outputs(\n",
    "    image=annotated_image,\n",
    "    legends=legends,\n",
    "    image_path=\"annotated_image.jpg\",\n",
    "    legend_paths=(\"fill_legend.pdf\", \"border_legend.pdf\"),\n",
    "    image_quality=90,\n",
    "    image_compression=True\n",
    ")"
   ]
  },
  {
   "cell_type": "markdown",
   "id": "301a8460-6ce9-447d-b736-b8dfeff15c94",
   "metadata": {},
   "source": [
    "# More plotting examples"
   ]
  },
  {
   "cell_type": "code",
   "execution_count": 10,
   "id": "216e2903-dd29-4cd1-b731-9ac5c320ae64",
   "metadata": {},
   "outputs": [
    {
     "name": "stdout",
     "output_type": "stream",
     "text": [
      "Image saved to anno_img_CD19+CD20+ B_CD19.jpg with quality=90, compression=True\n",
      "Legend saved to border_CD19.pdf\n"
     ]
    }
   ],
   "source": [
    "# Plot CD19 gene espression from one cell type abd show only border with custom \"jet\" cmap\n",
    "cells = ['CD19+CD20+ B']\n",
    "ddata = cdata[cdata.obs['predicted_labels'].isin(cells)] # subset to these 3 cell types \n",
    "border_col = 'CD19' # gene that is activated in CRC cells\n",
    "annotated_image, legends = b2c.view_cell_labels(image_path, labels_npz_path, ddata,border_key=border_col,cont_cmap='viridis') \n",
    "save_outputs(image=annotated_image, legends=legends, image_path=f\"anno_img_{cells[0]+'_'+border_col}.jpg\",legend_paths=(f\"border_{border_col}\",), image_quality=90)"
   ]
  },
  {
   "cell_type": "code",
   "execution_count": 11,
   "id": "db3ac7bd-766a-4917-a1f3-7784aba153a2",
   "metadata": {},
   "outputs": [
    {
     "name": "stdout",
     "output_type": "stream",
     "text": [
      "Image saved to anno_img_CMS2_EPCAM.jpg with quality=90, compression=True\n",
      "Legend saved to fill_EPCAM.pdf\n",
      "Legend saved to border_predicted_labels.pdf\n"
     ]
    }
   ],
   "source": [
    "# Plot conf score from one cell type as fill and jet colormap \n",
    "# subset to cells of interest \n",
    "cells = ['CMS2']\n",
    "ddata = cdata[cdata.obs['predicted_labels'].isin(cells)] # subset to this cell type \n",
    "fill_col = 'EPCAM' # gene that is activated in CRC cells\n",
    "border_col = 'predicted_labels' # gene that is activated in CRC cells\n",
    "annotated_image, legends = b2c.view_cell_labels(image_path, labels_npz_path, ddata,fill_key=fill_col, border_key=border_col,  cont_cmap='jet') \n",
    "save_outputs(image=annotated_image, legends=legends, image_path=f\"anno_img_{cells[0]+'_'+fill_col}.jpg\",legend_paths=(f\"fill_{fill_col}\",f\"border_{border_col}\"), image_quality=90)"
   ]
  },
  {
   "cell_type": "code",
   "execution_count": null,
   "id": "574eb4f6-13d4-4bc8-a0e9-c36753ba5c40",
   "metadata": {},
   "outputs": [],
   "source": []
  }
 ],
 "metadata": {
  "kernelspec": {
   "display_name": "bin2cell_mamba",
   "language": "python",
   "name": "bin2cell_mamba"
  },
  "language_info": {
   "codemirror_mode": {
    "name": "ipython",
    "version": 3
   },
   "file_extension": ".py",
   "mimetype": "text/x-python",
   "name": "python",
   "nbconvert_exporter": "python",
   "pygments_lexer": "ipython3",
   "version": "3.10.15"
  }
 },
 "nbformat": 4,
 "nbformat_minor": 5
}
